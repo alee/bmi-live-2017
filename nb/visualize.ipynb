{
 "cells": [
  {
   "cell_type": "markdown",
   "metadata": {},
   "source": [
    "<img src=\"img/csdms_logo.jpg\">"
   ]
  },
  {
   "cell_type": "markdown",
   "metadata": {},
   "source": [
    "# Visualization with `ipywidgets`"
   ]
  },
  {
   "cell_type": "markdown",
   "metadata": {},
   "source": [
    "Let's visualize the evolution of the 2D temperature field as heat diffuses across the plate. We can do this interactively with the `ipywidgets` package.\n",
    "\n",
    "**Note:** Depending on the current state of your Python installation, you may have to install the `ipywidgets` package, have `notebook>=4.2.0`, and enable widgets.\n",
    "\n",
    "```bash\n",
    "$ pip install ipywidgets\n",
    "$ jupyter nbextension enable --py --sys-prefix widgetsnbextension\n",
    "```\n",
    "\n",
    "Start with the necessary imports."
   ]
  },
  {
   "cell_type": "code",
   "execution_count": null,
   "metadata": {},
   "outputs": [],
   "source": [
    "%matplotlib auto\n",
    "import matplotlib.pyplot as plt\n",
    "from ipywidgets import interact\n",
    "from bmi_live.bmi_diffusion import BmiDiffusion"
   ]
  },
  {
   "cell_type": "markdown",
   "metadata": {},
   "source": [
    "Define a function that runs the `Diffusion` model through its BMI for a fixed number of time steps. Store the temperture field from each time step in a list. Return the list."
   ]
  },
  {
   "cell_type": "code",
   "execution_count": null,
   "metadata": {
    "collapsed": true
   },
   "outputs": [],
   "source": [
    "def run_model(n_steps=10):\n",
    "    model = BmiDiffusion()\n",
    "    model.initialize('../data/diffusion.yaml')\n",
    "    grid_shape = model.get_grid_shape(0)\n",
    "    \n",
    "    initial_temp = model.get_value('plate_surface__temperature')\n",
    "    initial_temp[20] = 100.\n",
    "    model.set_value('plate_surface__temperature', initial_temp)\n",
    "    \n",
    "    temp = [initial_temp.reshape(grid_shape)]\n",
    "    for _ in range(n_steps):\n",
    "        model.update()\n",
    "        new_temp = model.get_value('plate_surface__temperature')\n",
    "        temp.append(new_temp.reshape(grid_shape))\n",
    "    \n",
    "    model.finalize()\n",
    "    return temp"
   ]
  },
  {
   "cell_type": "markdown",
   "metadata": {},
   "source": [
    "Run the model for awhile."
   ]
  },
  {
   "cell_type": "code",
   "execution_count": null,
   "metadata": {
    "collapsed": true
   },
   "outputs": [],
   "source": [
    "temperature = run_model(50)"
   ]
  },
  {
   "cell_type": "markdown",
   "metadata": {},
   "source": [
    "Define a function to visualize the temperature field at a time step (defined by an index into the list of temperature fields)."
   ]
  },
  {
   "cell_type": "code",
   "execution_count": null,
   "metadata": {
    "collapsed": true
   },
   "outputs": [],
   "source": [
    "xmin, xmax = 0., temperature[0].shape[1]\n",
    "ymin, ymax = 0., temperature[0].shape[0]\n",
    "im = plt.imshow(temperature[0], vmax=100, extent=[xmin, xmax, ymin, ymax], origin='upper', cmap='gist_stern')\n",
    "plt.title('Plate Temperature')\n",
    "plt.colorbar().ax.set_ylabel('Temperature (K)')"
   ]
  },
  {
   "cell_type": "code",
   "execution_count": null,
   "metadata": {
    "collapsed": true
   },
   "outputs": [],
   "source": [
    "def plot_temperature(time_index=0):\n",
    "    im.set_data(temperature[time_index])"
   ]
  },
  {
   "cell_type": "markdown",
   "metadata": {},
   "source": [
    "Make an interactive plot of temperature over time."
   ]
  },
  {
   "cell_type": "code",
   "execution_count": null,
   "metadata": {
    "collapsed": true
   },
   "outputs": [],
   "source": [
    "interact(plot_temperature, time_index=(0, 50, 1))"
   ]
  },
  {
   "cell_type": "markdown",
   "metadata": {},
   "source": [
    "## Update the model interactively"
   ]
  },
  {
   "cell_type": "markdown",
   "metadata": {},
   "source": [
    "Define a function to plot a 2D array of temperatures."
   ]
  },
  {
   "cell_type": "code",
   "execution_count": null,
   "metadata": {
    "collapsed": true
   },
   "outputs": [],
   "source": [
    "def plot_temperature(temperature):\n",
    "    plt.clf()\n",
    "    xmin, xmax = 0., temperature.shape[1]\n",
    "    ymin, ymax = 0., temperature.shape[0]\n",
    "    plt.imshow(temperature, vmin=0., vmax=10., extent=[xmin, xmax, ymin, ymax], origin='upper', cmap='Reds')\n",
    "    plt.title('Plate Temperature')\n",
    "    # plt.colorbar().ax.set_ylabel('Temperature (K)')"
   ]
  },
  {
   "cell_type": "markdown",
   "metadata": {},
   "source": [
    "We're going to use this a little later to interactively run and plot our model.\n",
    "\n",
    "Create an object that runs the `BmiHeat` model until a given time and then plots the temperature field at that time. Notice that this would work with any BMI model - you would just have to change the name of the variable to plot. Since our model cannot run backward in time, we cache the temperature at each time step."
   ]
  },
  {
   "cell_type": "code",
   "execution_count": null,
   "metadata": {
    "collapsed": true
   },
   "outputs": [],
   "source": [
    "class HeatRunner(object):\n",
    "    def __init__(self, heat):\n",
    "        self._heat = heat\n",
    "        self._cache = []\n",
    "\n",
    "    def run_and_plot(self, time_index):\n",
    "        for _ in range(len(self._cache), time_index):\n",
    "            self._heat.update()\n",
    "            self._cache.append(\n",
    "                heat.get_value('plate_surface__temperature').reshape(self._heat.get_grid_shape(0)))\n",
    "        plot_temperature(self._cache[time_index - 1])"
   ]
  },
  {
   "cell_type": "markdown",
   "metadata": {},
   "source": [
    "Instantiate the heat model and initialize it."
   ]
  },
  {
   "cell_type": "code",
   "execution_count": null,
   "metadata": {},
   "outputs": [],
   "source": [
    "heat = BmiDiffusion()\n",
    "heat.initialize('../data/diffusion.yaml')"
   ]
  },
  {
   "cell_type": "markdown",
   "metadata": {},
   "source": [
    "Set the initial temperature."
   ]
  },
  {
   "cell_type": "code",
   "execution_count": null,
   "metadata": {},
   "outputs": [],
   "source": [
    "init_temperature = heat.get_value('plate_surface__temperature')\n",
    "init_temperature.shape = heat.get_grid_shape(0)\n",
    "init_temperature[2, 2] = 100.\n",
    "heat.set_value('plate_surface__temperature', init_temperature)"
   ]
  },
  {
   "cell_type": "markdown",
   "metadata": {},
   "source": [
    "Run the model interactively over time. Note that as you move the slider, the model *runs* to the updated time."
   ]
  },
  {
   "cell_type": "code",
   "execution_count": null,
   "metadata": {},
   "outputs": [],
   "source": [
    "runner = HeatRunner(heat)\n",
    "interact(runner.run_and_plot, time_index=(0, 100, 1))"
   ]
  },
  {
   "cell_type": "code",
   "execution_count": null,
   "metadata": {
    "collapsed": true
   },
   "outputs": [],
   "source": [
    "current_temperature = heat.get_value('plate_surface__temperature')\n",
    "current_temperature.shape = heat.get_grid_shape(0)\n",
    "current_temperature[5, 7] = 100.\n",
    "heat.set_value('plate_surface__temperature', current_temperature)"
   ]
  },
  {
   "cell_type": "code",
   "execution_count": null,
   "metadata": {
    "collapsed": true
   },
   "outputs": [],
   "source": []
  }
 ],
 "metadata": {
  "kernelspec": {
   "display_name": "Python 2",
   "language": "python",
   "name": "python2"
  },
  "language_info": {
   "codemirror_mode": {
    "name": "ipython",
    "version": 2
   },
   "file_extension": ".py",
   "mimetype": "text/x-python",
   "name": "python",
   "nbconvert_exporter": "python",
   "pygments_lexer": "ipython2",
   "version": "2.7.13"
  },
  "widgets": {
   "state": {},
   "version": "1.1.1"
  }
 },
 "nbformat": 4,
 "nbformat_minor": 1
}
