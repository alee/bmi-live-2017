{
 "cells": [
  {
   "cell_type": "markdown",
   "metadata": {},
   "source": [
    "<img src=\"img/csdms_logo.jpg\">"
   ]
  },
  {
   "cell_type": "markdown",
   "metadata": {},
   "source": [
    "# Visualization with `ipywidgets`"
   ]
  },
  {
   "cell_type": "markdown",
   "metadata": {},
   "source": [
    "Let's visualize the evolution of the 2D temperature field as heat diffuses across the plate. We can do this interactively with the `ipywidgets` package.\n",
    "\n",
    "**Note:** Depending on the current state of your Python installation, you may have to install the `ipywidgets` package, have `notebook>=4.2.0`, and enable widgets.\n",
    "\n",
    "```bash\n",
    "$ pip install ipywidgets\n",
    "$ jupyter nbextension enable --py --sys-prefix widgetsnbextension\n",
    "```\n",
    "\n",
    "Start with the necessary imports."
   ]
  },
  {
   "cell_type": "code",
   "execution_count": null,
   "metadata": {},
   "outputs": [],
   "source": [
    "%matplotlib inline\n",
    "import matplotlib.pyplot as plt\n",
    "from ipywidgets import interact\n",
    "from bmi_live.bmi_diffusion import BmiDiffusion"
   ]
  },
  {
   "cell_type": "markdown",
   "metadata": {},
   "source": [
    "Define a function that runs the `Diffusion` model through its BMI for a fixed number of time steps. Store the temperture field from each time step in a list. Return the list."
   ]
  },
  {
   "cell_type": "code",
   "execution_count": null,
   "metadata": {
    "collapsed": true
   },
   "outputs": [],
   "source": [
    "def run_model(n_steps=10):\n",
    "    model = BmiDiffusion()\n",
    "    model.initialize('../data/diffusion.yaml')\n",
    "    grid_shape = model.get_grid_shape(0)\n",
    "    \n",
    "    initial_temp = model.get_value('plate_surface__temperature')\n",
    "    initial_temp[20] = 100.\n",
    "    model.set_value('plate_surface__temperature', initial_temp)\n",
    "    \n",
    "    temp = [initial_temp.reshape(grid_shape)]\n",
    "    for _ in range(n_steps):\n",
    "        model.update()\n",
    "        new_temp = model.get_value('plate_surface__temperature')\n",
    "        temp.append(new_temp.reshape(grid_shape))\n",
    "    \n",
    "    model.finalize()\n",
    "    return temp"
   ]
  },
  {
   "cell_type": "markdown",
   "metadata": {},
   "source": [
    "Run the model for awhile."
   ]
  },
  {
   "cell_type": "code",
   "execution_count": null,
   "metadata": {
    "collapsed": true
   },
   "outputs": [],
   "source": [
    "temperature = run_model(50)"
   ]
  },
  {
   "cell_type": "markdown",
   "metadata": {},
   "source": [
    "Define a function to visualize the temperature field at a time step (defined by an index into the list of temperature fields)."
   ]
  },
  {
   "cell_type": "code",
   "execution_count": null,
   "metadata": {},
   "outputs": [],
   "source": [
    "xmin, xmax = 0., temperature[0].shape[1]\n",
    "ymin, ymax = 0., temperature[0].shape[0]\n",
    "im = plt.imshow(temperature[0], vmax=100, extent=[xmin, xmax, ymin, ymax], origin='upper', cmap='gist_stern')\n",
    "plt.title('Plate Temperature')\n",
    "plt.colorbar().ax.set_ylabel('Temperature (K)')"
   ]
  },
  {
   "cell_type": "code",
   "execution_count": null,
   "metadata": {
    "collapsed": true
   },
   "outputs": [],
   "source": [
    "def plot_temperature(time_index=0):\n",
    "    im.set_data(temperature[time_index])"
   ]
  },
  {
   "cell_type": "markdown",
   "metadata": {},
   "source": [
    "Make an interactive plot of temperature over time."
   ]
  },
  {
   "cell_type": "code",
   "execution_count": null,
   "metadata": {},
   "outputs": [],
   "source": [
    "interact(plot_temperature, time_index=(0, 50, 1))"
   ]
  }
 ],
 "metadata": {
  "kernelspec": {
   "display_name": "Python 2",
   "language": "python",
   "name": "python2"
  },
  "language_info": {
   "codemirror_mode": {
    "name": "ipython",
    "version": 2
   },
   "file_extension": ".py",
   "mimetype": "text/x-python",
   "name": "python",
   "nbconvert_exporter": "python",
   "pygments_lexer": "ipython2",
   "version": "2.7.13"
  },
  "widgets": {
   "state": {},
   "version": "1.1.1"
  }
 },
 "nbformat": 4,
 "nbformat_minor": 1
}
